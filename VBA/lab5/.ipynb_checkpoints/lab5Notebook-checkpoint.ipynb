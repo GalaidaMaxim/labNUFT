{
 "cells": [
  {
   "cell_type": "code",
   "execution_count": 2,
   "id": "fd6d6b00-560a-41e9-86a6-3e04e2db26b1",
   "metadata": {},
   "outputs": [
    {
     "ename": "ModuleNotFoundError",
     "evalue": "No module named 'sklearn'",
     "output_type": "error",
     "traceback": [
      "\u001b[1;31m---------------------------------------------------------------------------\u001b[0m",
      "\u001b[1;31mModuleNotFoundError\u001b[0m                       Traceback (most recent call last)",
      "Cell \u001b[1;32mIn[2], line 3\u001b[0m\n\u001b[0;32m      1\u001b[0m \u001b[38;5;28;01mimport\u001b[39;00m \u001b[38;5;21;01mpandas\u001b[39;00m \u001b[38;5;28;01mas\u001b[39;00m \u001b[38;5;21;01mpd\u001b[39;00m\n\u001b[0;32m      2\u001b[0m \u001b[38;5;28;01mimport\u001b[39;00m \u001b[38;5;21;01mnumpy\u001b[39;00m \u001b[38;5;28;01mas\u001b[39;00m \u001b[38;5;21;01mnp\u001b[39;00m\n\u001b[1;32m----> 3\u001b[0m \u001b[38;5;28;01mfrom\u001b[39;00m \u001b[38;5;21;01msklearn\u001b[39;00m\u001b[38;5;21;01m.\u001b[39;00m\u001b[38;5;21;01mlinear_model\u001b[39;00m \u001b[38;5;28;01mimport\u001b[39;00m LinearRegression\n\u001b[0;32m      4\u001b[0m \u001b[38;5;28;01mfrom\u001b[39;00m \u001b[38;5;21;01msklearn\u001b[39;00m\u001b[38;5;21;01m.\u001b[39;00m\u001b[38;5;21;01mmodel_selection\u001b[39;00m \u001b[38;5;28;01mimport\u001b[39;00m train_test_split\n\u001b[0;32m      5\u001b[0m \u001b[38;5;28;01mfrom\u001b[39;00m \u001b[38;5;21;01mfancyimpute\u001b[39;00m \u001b[38;5;28;01mimport\u001b[39;00m KNN \n",
      "\u001b[1;31mModuleNotFoundError\u001b[0m: No module named 'sklearn'"
     ]
    }
   ],
   "source": [
    "import pandas as pd\n",
    "import numpy as np\n",
    "from sklearn.linear_model import LinearRegression\n",
    "from sklearn.model_selection import train_test_split\n",
    "from fancyimpute import KNN \n",
    "\n",
    "\n",
    "data = pd.read_excel('lab4Kucheriaviy.xlsm')\n",
    "data.head()"
   ]
  },
  {
   "cell_type": "code",
   "execution_count": null,
   "id": "13d65f0f-8c4c-4992-924f-3ec56ac41da6",
   "metadata": {},
   "outputs": [],
   "source": [
    "nanToZero = data.fillna(0)\n",
    "nanToZero.head()"
   ]
  },
  {
   "cell_type": "code",
   "execution_count": null,
   "id": "72a4f98e-29dc-4159-b6aa-5449a3b8402a",
   "metadata": {},
   "outputs": [],
   "source": [
    "nanToAVG = data.fillna(round(data['car model year'].mean()))\n",
    "nanToAVG.head()"
   ]
  },
  {
   "cell_type": "code",
   "execution_count": null,
   "id": "27203b26-9315-4e20-9ba4-2a388f29f9d8",
   "metadata": {},
   "outputs": [],
   "source": [
    "dataForRegresion = data.copy()\n",
    "\n",
    "filedData = dataForRegresion[dataForRegresion['car model year'].notna()]\n",
    "missedData = dataForRegresion[dataForRegresion['car model year'].isna()]\n",
    "\n",
    "attrebutes = filedData[['car make', 'country']]\n",
    "encodedAttributes = pd.get_dummies(attrebutes, columns=['car make', 'country'], drop_first=True)\n",
    "values = filedData['car model year']\n",
    "\n",
    "model = LinearRegression()\n",
    "model.fit(encodedAttributes, values)\n",
    "\n",
    "missingAttrebutes = missedData[['car make', 'country']]\n",
    "missingAttrebutesEncoded = pd.get_dummies(missingAttrebutes, columns=['car make', 'country'], drop_first=True)\n",
    "missingAttrebutesEncoded = missingAttrebutesEncoded.reindex(columns=encodedAttributes.columns, fill_value=0)\n",
    "prediction = model.predict(missingAttrebutesEncoded)\n",
    "\n",
    "dataForRegresion.loc[dataForRegresion['car model year'].isna(), 'car model year'] = np.round(prediction)\n",
    "dataForRegresion.head()\n"
   ]
  },
  {
   "cell_type": "code",
   "execution_count": null,
   "id": "0a3ce8c7-7f24-466c-abb2-625f892cbfbf",
   "metadata": {},
   "outputs": [],
   "source": [
    "imputer = KNN(k=5)\n",
    "encodedData = pd.get_dummies(data, drop_first=True)\n",
    "iData = imputer.fit_transform(encodedData)\n",
    "result = pd.DataFrame(iData, columns = encodedData.columns)\n",
    "data.loc[:, 'car model year'] = result['car model year']\n",
    "data.head()"
   ]
  },
  {
   "cell_type": "code",
   "execution_count": null,
   "id": "6876bf06-0d45-4f8d-89ae-9870cc81c6b0",
   "metadata": {},
   "outputs": [],
   "source": []
  },
  {
   "cell_type": "code",
   "execution_count": null,
   "id": "60ed3ba2-deeb-4ff8-8ee1-1b984d2d8bf4",
   "metadata": {},
   "outputs": [],
   "source": []
  },
  {
   "cell_type": "code",
   "execution_count": null,
   "id": "c5aa0190-c0e9-4123-9e9e-852609083c7f",
   "metadata": {},
   "outputs": [],
   "source": []
  }
 ],
 "metadata": {
  "kernelspec": {
   "display_name": "Python 3 (ipykernel)",
   "language": "python",
   "name": "python3"
  },
  "language_info": {
   "codemirror_mode": {
    "name": "ipython",
    "version": 3
   },
   "file_extension": ".py",
   "mimetype": "text/x-python",
   "name": "python",
   "nbconvert_exporter": "python",
   "pygments_lexer": "ipython3",
   "version": "3.10.11"
  }
 },
 "nbformat": 4,
 "nbformat_minor": 5
}
