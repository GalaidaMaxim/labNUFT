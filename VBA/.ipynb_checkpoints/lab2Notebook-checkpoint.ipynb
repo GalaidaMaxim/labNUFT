{
 "cells": [
  {
   "cell_type": "code",
   "execution_count": 6,
   "id": "fd6d6b00-560a-41e9-86a6-3e04e2db26b1",
   "metadata": {},
   "outputs": [
    {
     "data": {
      "text/html": [
       "<div>\n",
       "<style scoped>\n",
       "    .dataframe tbody tr th:only-of-type {\n",
       "        vertical-align: middle;\n",
       "    }\n",
       "\n",
       "    .dataframe tbody tr th {\n",
       "        vertical-align: top;\n",
       "    }\n",
       "\n",
       "    .dataframe thead th {\n",
       "        text-align: right;\n",
       "    }\n",
       "</style>\n",
       "<table border=\"1\" class=\"dataframe\">\n",
       "  <thead>\n",
       "    <tr style=\"text-align: right;\">\n",
       "      <th></th>\n",
       "      <th>First name</th>\n",
       "      <th>Last name</th>\n",
       "      <th>country</th>\n",
       "      <th>car make</th>\n",
       "      <th>car model year</th>\n",
       "    </tr>\n",
       "  </thead>\n",
       "  <tbody>\n",
       "    <tr>\n",
       "      <th>0</th>\n",
       "      <td>Karlotte</td>\n",
       "      <td>Dilgarno</td>\n",
       "      <td>Tunisia</td>\n",
       "      <td>Suzuki</td>\n",
       "      <td>2004</td>\n",
       "    </tr>\n",
       "    <tr>\n",
       "      <th>1</th>\n",
       "      <td>Jelene</td>\n",
       "      <td>Sayburn</td>\n",
       "      <td>China</td>\n",
       "      <td>Jeep</td>\n",
       "      <td>2008</td>\n",
       "    </tr>\n",
       "    <tr>\n",
       "      <th>2</th>\n",
       "      <td>Linell</td>\n",
       "      <td>Runham</td>\n",
       "      <td>Bosnia and Herzegovina</td>\n",
       "      <td>Isuzu</td>\n",
       "      <td>2000</td>\n",
       "    </tr>\n",
       "    <tr>\n",
       "      <th>3</th>\n",
       "      <td>Hilary</td>\n",
       "      <td>Braidwood</td>\n",
       "      <td>China</td>\n",
       "      <td>Ford</td>\n",
       "      <td>2004</td>\n",
       "    </tr>\n",
       "    <tr>\n",
       "      <th>4</th>\n",
       "      <td>Mariele</td>\n",
       "      <td>Gorringe</td>\n",
       "      <td>Russia</td>\n",
       "      <td>Acura</td>\n",
       "      <td>1990</td>\n",
       "    </tr>\n",
       "  </tbody>\n",
       "</table>\n",
       "</div>"
      ],
      "text/plain": [
       "  First name  Last name                 country car make   car model year\n",
       "0   Karlotte   Dilgarno                 Tunisia    Suzuki            2004\n",
       "1     Jelene    Sayburn                   China      Jeep            2008\n",
       "2     Linell     Runham  Bosnia and Herzegovina     Isuzu            2000\n",
       "3     Hilary  Braidwood                   China      Ford            2004\n",
       "4    Mariele   Gorringe                  Russia     Acura            1990"
      ]
     },
     "execution_count": 6,
     "metadata": {},
     "output_type": "execute_result"
    }
   ],
   "source": [
    "import pandas as pd\n",
    "data = pd.read_excel('lab2Kucheriaviy.xlsm')\n",
    "data.head()"
   ]
  },
  {
   "cell_type": "code",
   "execution_count": null,
   "id": "14d43e65-0e74-4630-9f00-2c0ae14f384e",
   "metadata": {},
   "outputs": [],
   "source": []
  }
 ],
 "metadata": {
  "kernelspec": {
   "display_name": "Python 3 (ipykernel)",
   "language": "python",
   "name": "python3"
  },
  "language_info": {
   "codemirror_mode": {
    "name": "ipython",
    "version": 3
   },
   "file_extension": ".py",
   "mimetype": "text/x-python",
   "name": "python",
   "nbconvert_exporter": "python",
   "pygments_lexer": "ipython3",
   "version": "3.10.11"
  }
 },
 "nbformat": 4,
 "nbformat_minor": 5
}
