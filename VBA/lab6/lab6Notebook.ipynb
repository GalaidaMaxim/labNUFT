{
 "cells": [
  {
   "cell_type": "code",
   "execution_count": 27,
   "id": "fd6d6b00-560a-41e9-86a6-3e04e2db26b1",
   "metadata": {},
   "outputs": [],
   "source": [
    "import pandas as pd\n",
    "import numpy as np\n",
    "import scipy.stats as stats\n",
    "\n",
    "\n",
    "\n",
    "data = pd.read_excel('source.xlsm', engine='openpyxl')\n"
   ]
  },
  {
   "cell_type": "code",
   "execution_count": 28,
   "id": "8fe4d8cb-4f1c-4c0d-b534-03d38480a23b",
   "metadata": {},
   "outputs": [
    {
     "data": {
      "text/plain": [
       "np.float64(1.9295897668014964e-24)"
      ]
     },
     "execution_count": 28,
     "metadata": {},
     "output_type": "execute_result"
    }
   ],
   "source": [
    "statistic, p_value = stats.shapiro(data['car model year'].dropna())\n",
    "p_value"
   ]
  },
  {
   "cell_type": "code",
   "execution_count": 31,
   "id": "2484f37d-9d77-4849-98e2-15d6be06a742",
   "metadata": {},
   "outputs": [
    {
     "data": {
      "text/html": [
       "<div>\n",
       "<style scoped>\n",
       "    .dataframe tbody tr th:only-of-type {\n",
       "        vertical-align: middle;\n",
       "    }\n",
       "\n",
       "    .dataframe tbody tr th {\n",
       "        vertical-align: top;\n",
       "    }\n",
       "\n",
       "    .dataframe thead th {\n",
       "        text-align: right;\n",
       "    }\n",
       "</style>\n",
       "<table border=\"1\" class=\"dataframe\">\n",
       "  <thead>\n",
       "    <tr style=\"text-align: right;\">\n",
       "      <th></th>\n",
       "      <th>First name</th>\n",
       "      <th>Last name</th>\n",
       "      <th>country</th>\n",
       "      <th>car make</th>\n",
       "      <th>car model year</th>\n",
       "    </tr>\n",
       "  </thead>\n",
       "  <tbody>\n",
       "    <tr>\n",
       "      <th>70</th>\n",
       "      <td>Ellery</td>\n",
       "      <td>Biggin</td>\n",
       "      <td>Poland</td>\n",
       "      <td>Chevrolet</td>\n",
       "      <td>1969</td>\n",
       "    </tr>\n",
       "    <tr>\n",
       "      <th>74</th>\n",
       "      <td>Waldon</td>\n",
       "      <td>Giacobazzi</td>\n",
       "      <td>Albania</td>\n",
       "      <td>Chevrolet</td>\n",
       "      <td>1967</td>\n",
       "    </tr>\n",
       "    <tr>\n",
       "      <th>133</th>\n",
       "      <td>Pierrette</td>\n",
       "      <td>Fayter</td>\n",
       "      <td>Japan</td>\n",
       "      <td>Dodge</td>\n",
       "      <td>1970</td>\n",
       "    </tr>\n",
       "    <tr>\n",
       "      <th>134</th>\n",
       "      <td>Hamnet</td>\n",
       "      <td>Athridge</td>\n",
       "      <td>Netherlands</td>\n",
       "      <td>Plymouth</td>\n",
       "      <td>1969</td>\n",
       "    </tr>\n",
       "    <tr>\n",
       "      <th>139</th>\n",
       "      <td>Filippo</td>\n",
       "      <td>Wheelband</td>\n",
       "      <td>China</td>\n",
       "      <td>Pontiac</td>\n",
       "      <td>1961</td>\n",
       "    </tr>\n",
       "    <tr>\n",
       "      <th>146</th>\n",
       "      <td>Ferrel</td>\n",
       "      <td>Gallop</td>\n",
       "      <td>China</td>\n",
       "      <td>Chevrolet</td>\n",
       "      <td>1968</td>\n",
       "    </tr>\n",
       "    <tr>\n",
       "      <th>148</th>\n",
       "      <td>Gunther</td>\n",
       "      <td>Bernollet</td>\n",
       "      <td>Russia</td>\n",
       "      <td>Ford</td>\n",
       "      <td>1967</td>\n",
       "    </tr>\n",
       "    <tr>\n",
       "      <th>165</th>\n",
       "      <td>Germayne</td>\n",
       "      <td>Ebbin</td>\n",
       "      <td>Indonesia</td>\n",
       "      <td>Chevrolet</td>\n",
       "      <td>1958</td>\n",
       "    </tr>\n",
       "    <tr>\n",
       "      <th>171</th>\n",
       "      <td>Edan</td>\n",
       "      <td>Commins</td>\n",
       "      <td>Greece</td>\n",
       "      <td>Chevrolet</td>\n",
       "      <td>1964</td>\n",
       "    </tr>\n",
       "    <tr>\n",
       "      <th>225</th>\n",
       "      <td>Cammy</td>\n",
       "      <td>Derill</td>\n",
       "      <td>Thailand</td>\n",
       "      <td>Ford</td>\n",
       "      <td>1958</td>\n",
       "    </tr>\n",
       "  </tbody>\n",
       "</table>\n",
       "</div>"
      ],
      "text/plain": [
       "    First name   Last name      country  car make   car model year\n",
       "70      Ellery      Biggin       Poland  Chevrolet            1969\n",
       "74      Waldon  Giacobazzi      Albania  Chevrolet            1967\n",
       "133  Pierrette      Fayter        Japan      Dodge            1970\n",
       "134     Hamnet    Athridge  Netherlands   Plymouth            1969\n",
       "139    Filippo   Wheelband        China    Pontiac            1961\n",
       "146     Ferrel      Gallop        China  Chevrolet            1968\n",
       "148    Gunther   Bernollet       Russia       Ford            1967\n",
       "165   Germayne       Ebbin    Indonesia  Chevrolet            1958\n",
       "171       Edan     Commins       Greece  Chevrolet            1964\n",
       "225      Cammy      Derill     Thailand       Ford            1958"
      ]
     },
     "execution_count": 31,
     "metadata": {},
     "output_type": "execute_result"
    }
   ],
   "source": [
    "\n",
    "dataCarModeYearD = data['car model year'].describe()\n",
    "lowBound = dataCarModeYearD['25%'] - (1.5 * (dataCarModeYearD['75%'] - dataCarModeYearD['25%']))\n",
    "highBound = dataCarModeYearD['75%'] + (1.5 * (dataCarModeYearD['75%'] - dataCarModeYearD['25%']))\n",
    "outliers = data[(data['car model year'] < lowBound) | (data['car model year'] > highBound)]\n",
    "outliers.head(10)\n"
   ]
  },
  {
   "cell_type": "code",
   "execution_count": null,
   "id": "902d4c20-3e4b-4eb9-bdd6-48416c124414",
   "metadata": {},
   "outputs": [],
   "source": []
  }
 ],
 "metadata": {
  "kernelspec": {
   "display_name": "Python 3 (ipykernel)",
   "language": "python",
   "name": "python3"
  },
  "language_info": {
   "codemirror_mode": {
    "name": "ipython",
    "version": 3
   },
   "file_extension": ".py",
   "mimetype": "text/x-python",
   "name": "python",
   "nbconvert_exporter": "python",
   "pygments_lexer": "ipython3",
   "version": "3.12.3"
  }
 },
 "nbformat": 4,
 "nbformat_minor": 5
}
