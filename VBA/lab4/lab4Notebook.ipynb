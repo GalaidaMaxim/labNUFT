{
 "cells": [
  {
   "cell_type": "code",
   "execution_count": 20,
   "id": "fd6d6b00-560a-41e9-86a6-3e04e2db26b1",
   "metadata": {},
   "outputs": [
    {
     "data": {
      "text/plain": [
       "False    1000\n",
       "True        7\n",
       "Name: count, dtype: int64"
      ]
     },
     "execution_count": 20,
     "metadata": {},
     "output_type": "execute_result"
    }
   ],
   "source": [
    "import pandas as pd\n",
    "data = pd.read_excel('lab4Kucheriaviy.xlsm')\n",
    "dp = data.duplicated()\n",
    "dp.value_counts()"
   ]
  },
  {
   "cell_type": "code",
   "execution_count": 21,
   "id": "cc359e4f-6567-4d7e-8bfd-b0e7d2395f4b",
   "metadata": {},
   "outputs": [
    {
     "data": {
      "text/html": [
       "<div>\n",
       "<style scoped>\n",
       "    .dataframe tbody tr th:only-of-type {\n",
       "        vertical-align: middle;\n",
       "    }\n",
       "\n",
       "    .dataframe tbody tr th {\n",
       "        vertical-align: top;\n",
       "    }\n",
       "\n",
       "    .dataframe thead th {\n",
       "        text-align: right;\n",
       "    }\n",
       "</style>\n",
       "<table border=\"1\" class=\"dataframe\">\n",
       "  <thead>\n",
       "    <tr style=\"text-align: right;\">\n",
       "      <th></th>\n",
       "      <th>First name</th>\n",
       "      <th>Last name</th>\n",
       "      <th>country</th>\n",
       "      <th>car make</th>\n",
       "      <th>car model year</th>\n",
       "    </tr>\n",
       "  </thead>\n",
       "  <tbody>\n",
       "    <tr>\n",
       "      <th>168</th>\n",
       "      <td>Shelly</td>\n",
       "      <td>Hakonsen</td>\n",
       "      <td>Mexico</td>\n",
       "      <td>Dodge</td>\n",
       "      <td>2003</td>\n",
       "    </tr>\n",
       "    <tr>\n",
       "      <th>193</th>\n",
       "      <td>Delmor</td>\n",
       "      <td>McDiarmid</td>\n",
       "      <td>China</td>\n",
       "      <td>Volkswagen</td>\n",
       "      <td>1994</td>\n",
       "    </tr>\n",
       "    <tr>\n",
       "      <th>236</th>\n",
       "      <td>Rolland</td>\n",
       "      <td>Selvester</td>\n",
       "      <td>Brazil</td>\n",
       "      <td>Dodge</td>\n",
       "      <td>2009</td>\n",
       "    </tr>\n",
       "    <tr>\n",
       "      <th>281</th>\n",
       "      <td>Fred</td>\n",
       "      <td>Domeney</td>\n",
       "      <td>China</td>\n",
       "      <td>Chrysler</td>\n",
       "      <td>1997</td>\n",
       "    </tr>\n",
       "    <tr>\n",
       "      <th>355</th>\n",
       "      <td>Neddie</td>\n",
       "      <td>Corryer</td>\n",
       "      <td>Pakistan</td>\n",
       "      <td>Chevrolet</td>\n",
       "      <td>2007</td>\n",
       "    </tr>\n",
       "    <tr>\n",
       "      <th>787</th>\n",
       "      <td>Gaylor</td>\n",
       "      <td>Aris</td>\n",
       "      <td>Iraq</td>\n",
       "      <td>Dodge</td>\n",
       "      <td>1993</td>\n",
       "    </tr>\n",
       "    <tr>\n",
       "      <th>900</th>\n",
       "      <td>Lucho</td>\n",
       "      <td>Hann</td>\n",
       "      <td>Syria</td>\n",
       "      <td>BMW</td>\n",
       "      <td>2006</td>\n",
       "    </tr>\n",
       "  </tbody>\n",
       "</table>\n",
       "</div>"
      ],
      "text/plain": [
       "    First name  Last name   country   car make   car model year\n",
       "168     Shelly   Hakonsen    Mexico       Dodge            2003\n",
       "193     Delmor  McDiarmid     China  Volkswagen            1994\n",
       "236    Rolland  Selvester    Brazil       Dodge            2009\n",
       "281       Fred    Domeney     China    Chrysler            1997\n",
       "355     Neddie    Corryer  Pakistan   Chevrolet            2007\n",
       "787     Gaylor       Aris      Iraq       Dodge            1993\n",
       "900      Lucho       Hann     Syria         BMW            2006"
      ]
     },
     "execution_count": 21,
     "metadata": {},
     "output_type": "execute_result"
    }
   ],
   "source": [
    "dpLines = data[data.duplicated(keep='first')]\n",
    "dpLines"
   ]
  },
  {
   "cell_type": "code",
   "execution_count": 16,
   "id": "64cc08f1-7017-48fe-a0e4-985b8a0140ab",
   "metadata": {},
   "outputs": [
    {
     "data": {
      "text/plain": [
       "False    1000\n",
       "Name: count, dtype: int64"
      ]
     },
     "execution_count": 16,
     "metadata": {},
     "output_type": "execute_result"
    }
   ],
   "source": [
    "data = data.drop_duplicates()\n",
    "dp = data.duplicated()\n",
    "dp.value_counts()"
   ]
  },
  {
   "cell_type": "code",
   "execution_count": null,
   "id": "cd54f803-8a61-44bd-92ac-be4e43f92cd2",
   "metadata": {},
   "outputs": [],
   "source": []
  }
 ],
 "metadata": {
  "kernelspec": {
   "display_name": "Python 3 (ipykernel)",
   "language": "python",
   "name": "python3"
  },
  "language_info": {
   "codemirror_mode": {
    "name": "ipython",
    "version": 3
   },
   "file_extension": ".py",
   "mimetype": "text/x-python",
   "name": "python",
   "nbconvert_exporter": "python",
   "pygments_lexer": "ipython3",
   "version": "3.12.3"
  }
 },
 "nbformat": 4,
 "nbformat_minor": 5
}
